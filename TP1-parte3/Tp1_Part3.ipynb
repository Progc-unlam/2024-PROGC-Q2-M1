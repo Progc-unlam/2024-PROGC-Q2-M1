{
  "nbformat": 4,
  "nbformat_minor": 0,
  "metadata": {
    "colab": {
      "provenance": []
    },
    "kernelspec": {
      "name": "python3",
      "display_name": "Python 3"
    },
    "language_info": {
      "name": "python"
    }
  },
  "cells": [
    {
      "cell_type": "markdown",
      "source": [
        "Baños no compartidos"
      ],
      "metadata": {
        "id": "s8MbFd9QCFSG"
      }
    },
    {
      "cell_type": "markdown",
      "source": [
        "Creamos una clase auxiliar"
      ],
      "metadata": {
        "id": "EHU3YT5NJAjZ"
      }
    },
    {
      "cell_type": "code",
      "execution_count": null,
      "metadata": {
        "colab": {
          "base_uri": "https://localhost:8080/"
        },
        "id": "5I3BbF1rCDOp",
        "outputId": "70bec27b-eaac-4cc2-fd45-0c4400e41851"
      },
      "outputs": [
        {
          "output_type": "stream",
          "name": "stdout",
          "text": [
            "Overwriting Bath.java\n"
          ]
        }
      ],
      "source": [
        "%%writefile Bath.java\n",
        "import java.util.concurrent.Semaphore;\n",
        "\n",
        "public class Bath implements Runnable\n",
        "{\n",
        "    /* Constantes */\n",
        "    private static final int TIME_IN_BATH = 3000;\n",
        "    private static final int TIME_WAITING = 3000;\n",
        "    private static final int BATH_CAPACITY = 2;\n",
        "    private static final String MAN = \"H\";\n",
        "    private static final String WOMAN = \"M\";\n",
        "\n",
        "\n",
        "\n",
        "    private String gender;\n",
        "    private int number;\n",
        "\n",
        "\n",
        "    public static int women_counter = 0;\n",
        "    public static int men_counter = 0;\n",
        "    public static Semaphore sem_access_bath = new Semaphore(BATH_CAPACITY);\n",
        "\n",
        "    public Bath(String gender, int number)\n",
        "    {\n",
        "        this.gender = gender;\n",
        "        this.number = number;\n",
        "    }\n",
        "\n",
        "    public void use_bath() throws InterruptedException\n",
        "    {\n",
        "        /* Si un hombre quiere entrar y no hay mujeres en el baño, entonces pasa */\n",
        "        if (this.gender.equals(MAN) && get_women_counter() == 0)\n",
        "        {\n",
        "            /* Si es el primer hombre, entonces bloqueo el acceso a mujeres */\n",
        "            Main.enter_bath(number);\n",
        "\n",
        "            /* Dibujo un hombre en pantalla */\n",
        "            Bath.increment_men_counter();\n",
        "\n",
        "            /* Simula el tiempo que el hilo esta usando el baño */\n",
        "            Thread.sleep(TIME_IN_BATH);\n",
        "\n",
        "            Main.leave_bath(number);\n",
        "            /* Borro al hombre en pantalla */\n",
        "            Bath.decrement_men_counter();\n",
        "\n",
        "\n",
        "        }\n",
        "        /* Entra mujer y contador de hombres debe estar en 0 */\n",
        "        else if (this.gender.equals(WOMAN) && get_men_counter() == 0)\n",
        "        {\n",
        "            Main.enter_bath(number);\n",
        "\n",
        "            /* Dibujo una mujer en pantalla */\n",
        "            Bath.increment_women_counter();\n",
        "\n",
        "            /* Simula el tiempo que el hilo esta usando el baño */\n",
        "            Thread.sleep(TIME_IN_BATH);\n",
        "\n",
        "            /* Se va y actualiza la pantalla */\n",
        "            Main.leave_bath(number);\n",
        "            Bath.decrement_women_counter();\n",
        "        } else\n",
        "        {\n",
        "            /* Si no pudo ingresar sea hombre o mujer, se va un rato y vuelve a intentar (pero con su lugar reservado para evitar inanicion) */\n",
        "            Thread.sleep(TIME_WAITING);\n",
        "            use_bath();\n",
        "        }\n",
        "    }\n",
        "\n",
        "    public void try_access_bath(){\n",
        "        Main.waiting(gender, number);\n",
        "        P(\"access_bath\");\n",
        "        try\n",
        "        {\n",
        "            use_bath();\n",
        "        } catch (Exception e)\n",
        "        {\n",
        "            e.printStackTrace();\n",
        "        }\n",
        "        V(\"access_bath\");\n",
        "    }\n",
        "\n",
        "\n",
        "    @Override\n",
        "    public void run()\n",
        "    {\n",
        "        try_access_bath();\n",
        "    }\n",
        "\n",
        "    public void P(String name)\n",
        "    {\n",
        "        try\n",
        "        {\n",
        "            if (name.equals(\"access_bath\"))\n",
        "            {\n",
        "                sem_access_bath.acquire();\n",
        "            }\n",
        "\n",
        "        } catch(InterruptedException e)\n",
        "        {\n",
        "            e.printStackTrace();\n",
        "        }\n",
        "\n",
        "    }\n",
        "\n",
        "    public void V(String name)\n",
        "    {\n",
        "        if (name.equals(\"access_bath\"))\n",
        "        {\n",
        "            sem_access_bath.release();\n",
        "        }\n",
        "    }\n",
        "\n",
        "    public static synchronized void increment_men_counter()\n",
        "    {\n",
        "        men_counter++;\n",
        "        Main.update_screen();\n",
        "    }\n",
        "\n",
        "    public static synchronized void decrement_men_counter()\n",
        "    {\n",
        "        men_counter--;\n",
        "        Main.update_screen();\n",
        "    }\n",
        "    public static synchronized int get_men_counter()\n",
        "    {\n",
        "        return Bath.men_counter;\n",
        "    }\n",
        "\n",
        "\n",
        "    public static synchronized void increment_women_counter()\n",
        "    {\n",
        "        women_counter++;\n",
        "        Main.update_screen();\n",
        "    }\n",
        "\n",
        "    public static synchronized void decrement_women_counter()\n",
        "    {\n",
        "        women_counter--;\n",
        "        Main.update_screen();\n",
        "    }\n",
        "\n",
        "    public static synchronized int get_women_counter()\n",
        "    {\n",
        "        return Bath.women_counter;\n",
        "    }\n",
        "\n",
        "}"
      ]
    },
    {
      "cell_type": "markdown",
      "source": [
        "Creamos nuestro main en Java"
      ],
      "metadata": {
        "id": "6DO9QaPoJF7b"
      }
    },
    {
      "cell_type": "code",
      "source": [
        "%%writefile Main.java\n",
        "import java.util.Scanner;\n",
        "\n",
        "\n",
        "public class Main\n",
        "{\n",
        "\n",
        "    private static final String MAN = \"H\";\n",
        "    private static final String WOMAN = \"M\";\n",
        "\n",
        "\n",
        "    public static int access_counter = 1;\n",
        "    public static void main(String[] args)\n",
        "    {\n",
        "        System.out.println(\"Este programa simula el acceso a un baño donde solo hombres entran o solo mujeres.\");\n",
        "        System.out.println(\"Ingrese 'H' para simular el ingreso de un hombre\");\n",
        "        System.out.println(\"Ingrese 'M' para simular el ingreso de una mujer\\nPara finalizar, ingrese 'salir'\");\n",
        "\n",
        "        Scanner scanner = new Scanner(System.in);\n",
        "        int i = 1;\n",
        "\n",
        "        while (true)\n",
        "        {\n",
        "            System.out.println(\"'H' , 'M' o 'salir':\");\n",
        "            String input = scanner.nextLine();\n",
        "\n",
        "            if (input.equals(MAN))\n",
        "            {\n",
        "                Thread man_access = new Thread(new Bath(MAN, i));\n",
        "                man_access.start();\n",
        "                i++;\n",
        "            }\n",
        "            else if (input.equals(WOMAN))\n",
        "            {\n",
        "                Thread woman_access = new Thread(new Bath(WOMAN, i));\n",
        "                woman_access.start();\n",
        "                i++;\n",
        "            }\n",
        "            else if (input.equals(\"salir\"))\n",
        "            {\n",
        "                break;\n",
        "            }\n",
        "            else\n",
        "            {\n",
        "                System.out.println(\"Entrada no valida.\");\n",
        "            }\n",
        "        }\n",
        "\n",
        "        scanner.close();\n",
        "    }\n",
        "\n",
        "\n",
        "    public static synchronized void update_screen()\n",
        "    {\n",
        "        int counter = 0;\n",
        "        String gender = \"\";\n",
        "        String out = \"Baño: \";\n",
        "        System.out.println();\n",
        "        System.out.println(\"=====================\" + Main.access_counter + \"=====================\");\n",
        "\n",
        "        int man_counter = Bath.get_men_counter();\n",
        "        int woman_counter = Bath.get_women_counter();\n",
        "\n",
        "        counter = man_counter != 0 ? man_counter : woman_counter;\n",
        "        gender = man_counter !=0 ? MAN : WOMAN;\n",
        "\n",
        "        for(int i = 0; i < counter; i++)\n",
        "        {\n",
        "            out += gender + \" \";\n",
        "        }\n",
        "        System.out.println(out);\n",
        "        System.out.println(\"=====================\");\n",
        "        Main.access_counter++;\n",
        "    }\n",
        "\n",
        "    public static synchronized void enter_bath(int number)\n",
        "    {\n",
        "        System.out.println(\"Persona: \" + number + \" ingresando\");\n",
        "    }\n",
        "\n",
        "    public static synchronized void leave_bath(int number)\n",
        "    {\n",
        "        System.out.println(\"Persona: \" + number + \" saliendo\");\n",
        "    }\n",
        "\n",
        "    public static synchronized void waiting(String gender, int number)\n",
        "    {\n",
        "        System.out.println(\"Persona: \" + number + \" de genero: \" + gender + \" esta esperando\");\n",
        "    }\n",
        "}"
      ],
      "metadata": {
        "colab": {
          "base_uri": "https://localhost:8080/"
        },
        "id": "HRzGkAHMDzFo",
        "outputId": "401ebcc8-0b65-4621-acc8-9e3ba932ac64"
      },
      "execution_count": null,
      "outputs": [
        {
          "output_type": "stream",
          "name": "stdout",
          "text": [
            "Overwriting Main.java\n"
          ]
        }
      ]
    },
    {
      "cell_type": "markdown",
      "source": [
        "Compilamos nuestros .java"
      ],
      "metadata": {
        "id": "Z-qeTgOHJIlB"
      }
    },
    {
      "cell_type": "code",
      "source": [
        "!javac Bath.java\n",
        "!javac Main.java"
      ],
      "metadata": {
        "id": "wQ_f_CZTD3O3"
      },
      "execution_count": null,
      "outputs": []
    },
    {
      "cell_type": "markdown",
      "source": [
        "Ejecutamos nuestro ejercicio en Baños no compartidos"
      ],
      "metadata": {
        "id": "gEzAqR48JKPA"
      }
    },
    {
      "cell_type": "code",
      "source": [
        "!java Main"
      ],
      "metadata": {
        "colab": {
          "base_uri": "https://localhost:8080/"
        },
        "id": "K2z_hClQG2p9",
        "outputId": "0181f9e6-3892-4c56-b860-8ae2ef8eb7b7"
      },
      "execution_count": null,
      "outputs": [
        {
          "output_type": "stream",
          "name": "stdout",
          "text": [
            "Este programa simula el acceso a un baño donde solo hombres entran o solo mujeres.\n",
            "Ingrese 'H' para simular el ingreso de un hombre\n",
            "Ingrese 'M' para simular el ingreso de una mujer\n",
            "Para finalizar, ingrese 'salir'\n",
            "'H' , 'M' o 'salir':\n",
            "H\n",
            "'H' , 'M' o 'salir':\n",
            "Persona: 1 de genero: H esta esperando\n",
            "Persona: 1 ingresando\n",
            "\n",
            "=====================1=====================\n",
            "Baño: H \n",
            "=====================\n",
            "M\n",
            "'H' , 'M' o 'salir':\n",
            "Persona: 2 de genero: M esta esperando\n",
            "Persona: 1 saliendo\n",
            "\n",
            "=====================2=====================\n",
            "Baño: \n",
            "=====================\n",
            "M\n",
            "'H' , 'M' o 'salir':\n",
            "Persona: 3 de genero: M esta esperando\n",
            "Persona: 3 ingresando\n",
            "\n",
            "=====================3=====================\n",
            "Baño: M \n",
            "=====================\n",
            "Persona: 2 ingresando\n",
            "\n",
            "=====================4=====================\n",
            "Baño: M M \n",
            "=====================\n",
            "Persona: 3 saliendo\n",
            "\n",
            "=====================5=====================\n",
            "Baño: M \n",
            "=====================\n",
            "Persona: 2 saliendo\n",
            "\n",
            "=====================6=====================\n",
            "Baño: \n",
            "=====================\n",
            "salir\n"
          ]
        }
      ]
    },
    {
      "cell_type": "markdown",
      "source": [
        "Babuinos"
      ],
      "metadata": {
        "id": "_kis5SOfHUKO"
      }
    },
    {
      "cell_type": "markdown",
      "source": [
        "Creamos el archivo con la logica en Python"
      ],
      "metadata": {
        "id": "MJUSnGGZJNq5"
      }
    },
    {
      "cell_type": "code",
      "source": [
        "%%writefile babuinos.py\n",
        "import sys\n",
        "import threading\n",
        "import time\n",
        "import random\n",
        "\n",
        "\n",
        "MAX_BABUINOS = 5\n",
        "\n",
        "\n",
        "def babuinos(N, M):\n",
        "    semaforo = threading.Semaphore(MAX_BABUINOS)\n",
        "    sem_izq = threading.Semaphore(MAX_BABUINOS)\n",
        "    sem_der = threading.Semaphore(MAX_BABUINOS)\n",
        "    babuinos = []\n",
        "\n",
        "    for _ in range(N):\n",
        "        babuinos.append(threading.Thread(target=cruzar_soga, args=(\n",
        "            semaforo, sem_izq, sem_der, True)))\n",
        "\n",
        "    for _ in range(M):\n",
        "        babuinos.append(threading.Thread(target=cruzar_soga, args=(\n",
        "            semaforo, sem_izq, sem_der, False)))\n",
        "\n",
        "    random.shuffle(babuinos)\n",
        "    for babuino in babuinos:\n",
        "        babuino.start()\n",
        "        time.sleep(random.randint(1, 2))\n",
        "\n",
        "\n",
        "def cruzar_soga(semaforo, sem_izq, sem_der,  es_izquierda):\n",
        "    semaforo.acquire()\n",
        "    if es_izquierda and sem_der._value == MAX_BABUINOS:\n",
        "        sem_izq.acquire()\n",
        "        cruzar(\"Cruzando hacia la izquierda\")\n",
        "        sem_izq.release()\n",
        "    elif sem_izq._value == MAX_BABUINOS:\n",
        "        sem_der.acquire()\n",
        "        cruzar(\"Cruzando hacia la derecha\")\n",
        "        sem_der.release()\n",
        "\n",
        "    semaforo.release()\n",
        "\n",
        "\n",
        "def cruzar(st):\n",
        "    print(st)\n",
        "    time.sleep(random.randint(1, 2))\n",
        "\n",
        "\n",
        "def main():\n",
        "    if len(sys.argv) != 3:\n",
        "        print(\"\"\"Por favor provea dos argumentos:\n",
        "                N (babuinos que cruzan de izquierda a derecha)\n",
        "                M (babuinos que cruzan de derecha a izquierda)\"\"\")\n",
        "        return\n",
        "\n",
        "    N = int(sys.argv[1])\n",
        "    M = int(sys.argv[2])\n",
        "\n",
        "    babuinos(N, M)\n",
        "\n",
        "\n",
        "if __name__ == \"__main__\":\n",
        "    main()"
      ],
      "metadata": {
        "colab": {
          "base_uri": "https://localhost:8080/"
        },
        "id": "kQswENU_HW_U",
        "outputId": "1ffda2f1-a07b-4277-b1f2-ea06cd8b12ca"
      },
      "execution_count": null,
      "outputs": [
        {
          "output_type": "stream",
          "name": "stdout",
          "text": [
            "Overwriting babuinos.py\n"
          ]
        }
      ]
    },
    {
      "cell_type": "markdown",
      "source": [
        "Damos ejecucion al ejercicio de Babuinos"
      ],
      "metadata": {
        "id": "L2y5Z0ZFJRbL"
      }
    },
    {
      "cell_type": "code",
      "source": [
        "!python babuinos.py 15 43"
      ],
      "metadata": {
        "colab": {
          "base_uri": "https://localhost:8080/"
        },
        "id": "4ah3m52eHdfX",
        "outputId": "845af2d3-a91e-429d-e3f6-f09415f3b9f9"
      },
      "execution_count": null,
      "outputs": [
        {
          "output_type": "stream",
          "name": "stdout",
          "text": [
            "Cruzando hacia la izquierda\n",
            "Cruzando hacia la izquierda\n",
            "Cruzando hacia la derecha\n",
            "Cruzando hacia la derecha\n",
            "Cruzando hacia la derecha\n",
            "Cruzando hacia la derecha\n",
            "Cruzando hacia la derecha\n",
            "Cruzando hacia la derecha\n",
            "Cruzando hacia la derecha\n",
            "Cruzando hacia la derecha\n",
            "Cruzando hacia la izquierda\n",
            "Cruzando hacia la derecha\n",
            "Cruzando hacia la izquierda\n",
            "Cruzando hacia la derecha\n",
            "Cruzando hacia la derecha\n",
            "Traceback (most recent call last):\n",
            "  File \"/content/babuinos.py\", line 63, in <module>\n",
            "    main()\n",
            "  File \"/content/babuinos.py\", line 59, in main\n",
            "    babuinos(N, M)\n",
            "  File \"/content/babuinos.py\", line 27, in babuinos\n",
            "    time.sleep(random.randint(1, 2))\n",
            "KeyboardInterrupt\n",
            "Exception ignored in: <module 'threading' from '/usr/lib/python3.10/threading.py'>\n",
            "Traceback (most recent call last):\n",
            "  File \"/usr/lib/python3.10/threading.py\", line 1567, in _shutdown\n",
            "    lock.acquire()\n",
            "KeyboardInterrupt: \n",
            "^C\n"
          ]
        }
      ]
    },
    {
      "cell_type": "markdown",
      "source": [
        "Supermercado"
      ],
      "metadata": {
        "id": "jBxi0NdeIo0m"
      }
    },
    {
      "cell_type": "markdown",
      "source": [
        "Creamos el archivo de Supermercado en C++"
      ],
      "metadata": {
        "id": "_cz3SlgsJT5E"
      }
    },
    {
      "cell_type": "code",
      "source": [
        "%%writefile main.cpp\n",
        "#include <fcntl.h>\n",
        "#include <semaphore.h>\n",
        "#include <unistd.h>\n",
        "\n",
        "#include <cstdlib>\n",
        "#include <iostream>\n",
        "#include <list>\n",
        "#include <mutex>\n",
        "#include <thread>\n",
        "#include <vector>\n",
        "\n",
        "using namespace std;\n",
        "\n",
        "#define ERROR_NPARAMETERS -1\n",
        "#define ERROR_NCLIENTS -2\n",
        "\n",
        "#define NADMITTED_PARAMTERS 2\n",
        "#define NRESTOKERS 2\n",
        "#define MAX_BUY 2\n",
        "#define MIN_BUY 1\n",
        "\n",
        "int nClients = 0;\n",
        "vector<sem_t *> semaphores;\n",
        "sem_t *reponerS;\n",
        "sem_t *waitRestock;\n",
        "mutex gondolaAccesMutex;\n",
        "mutex waitingArea;\n",
        "int productCount = 10;\n",
        "bool noMoreClients = false;\n",
        "\n",
        "int parametersValidation(int nParamters, char const *paramters[]);\n",
        "list<thread> createRestockers(int nRestockers);\n",
        "void reponer(int numb_restocker, sem_t *myInit, sem_t *nextRepo);\n",
        "list<thread> createClients(int nClients);\n",
        "void comprar(int order);\n",
        "\n",
        "int main(int argc, char const *argv[])\n",
        "{\n",
        "  int validation = parametersValidation(argc, argv);\n",
        "\n",
        "  if (validation < 0)\n",
        "  {\n",
        "    cout << \"Error - \" << validation << endl;\n",
        "    return validation;\n",
        "  }\n",
        "\n",
        "  cout << \"N clients - \" << nClients << endl;\n",
        "\n",
        "  reponerS = sem_open(\"reponer\", O_CREAT, 0600, 0);\n",
        "  waitRestock = sem_open(\"esperar\", O_CREAT, 0600, 0);\n",
        "  waitingArea.lock();\n",
        "  list<thread> listRestockers = createRestockers((NRESTOKERS));\n",
        "  list<thread> listClients = createClients(nClients);\n",
        "\n",
        "  waitingArea.unlock();\n",
        "  for (auto &client : listClients)\n",
        "  {\n",
        "    client.join();\n",
        "  }\n",
        "  cout << \"Close SuperMarket\" << endl;\n",
        "  noMoreClients = true;\n",
        "  for (auto &restocker : listRestockers)\n",
        "  {\n",
        "    restocker.join();\n",
        "  }\n",
        "  int indxNameSemaphore = 0;\n",
        "  string nameSemaphoreClose;\n",
        "  for (auto &semaphore : semaphores)\n",
        "  {\n",
        "    nameSemaphoreClose = \"Número: \" + std::to_string(indxNameSemaphore);\n",
        "    sem_close(semaphore);\n",
        "    sem_unlink(nameSemaphoreClose.c_str());\n",
        "    indxNameSemaphore++;\n",
        "  }\n",
        "  sem_close(reponerS);\n",
        "  sem_close(waitRestock);\n",
        "  sem_unlink(\"reponer\");\n",
        "  sem_unlink(\"esperar\");\n",
        "  return 0;\n",
        "}\n",
        "\n",
        "int parametersValidation(int nParamters, char const *paramters[])\n",
        "{\n",
        "  if (nParamters != NADMITTED_PARAMTERS)\n",
        "  {\n",
        "    return ERROR_NPARAMETERS;\n",
        "  }\n",
        "  else\n",
        "  {\n",
        "    nClients = atoi(paramters[1]);\n",
        "    if (nClients < 0)\n",
        "    {\n",
        "      return ERROR_NCLIENTS;\n",
        "    }\n",
        "  }\n",
        "  return 0;\n",
        "}\n",
        "\n",
        "list<thread> createRestockers(int nRestockers)\n",
        "{\n",
        "  list<thread> restockers;\n",
        "  string nameSemaphore;\n",
        "  for (int i = 0; i < nRestockers; i++)\n",
        "  {\n",
        "    nameSemaphore = \"Número: \" + std::to_string(i);\n",
        "    semaphores.push_back(sem_open(nameSemaphore.c_str(), O_CREAT, 0600, i == 0 ? 1 : 0));\n",
        "  }\n",
        "  for (int i = 0; i < nRestockers; i++)\n",
        "  {\n",
        "    restockers.push_back(std::thread(reponer, i + 1, semaphores.at(i), semaphores.at(i + 1 < nRestockers ? i + 1 : 0)));\n",
        "  }\n",
        "\n",
        "  return restockers;\n",
        "}\n",
        "\n",
        "void reponer(int numb_restocker, sem_t *myInit, sem_t *nextRepo)\n",
        "{\n",
        "  while (1)\n",
        "  {\n",
        "    while (sem_trywait(myInit) != 0)\n",
        "    {\n",
        "      sleep(5);\n",
        "      if (noMoreClients == true) return;\n",
        "    }\n",
        "    while (sem_trywait(reponerS) != 0)\n",
        "    {\n",
        "      sleep(1);\n",
        "      if (noMoreClients == true) return;\n",
        "    }\n",
        "    cout << \"Restocker N°\" << numb_restocker << \" restocking\" << endl;\n",
        "    gondolaAccesMutex.lock();\n",
        "    productCount = 10;\n",
        "    gondolaAccesMutex.unlock();\n",
        "    sem_post(nextRepo);\n",
        "    sem_post(waitRestock);\n",
        "  }\n",
        "}\n",
        "\n",
        "list<thread> createClients(int nClients)\n",
        "{\n",
        "  list<thread> clients;\n",
        "  int nRand;\n",
        "  for (int i = 0; i < nClients; i++)\n",
        "  {\n",
        "    nRand = MIN_BUY + (std::rand() % (MAX_BUY - MIN_BUY + 1));\n",
        "    clients.push_back(std::thread(comprar, nRand));\n",
        "  }\n",
        "\n",
        "  return clients;\n",
        "}\n",
        "\n",
        "void comprar(int order)\n",
        "{\n",
        "  waitingArea.lock();\n",
        "  gondolaAccesMutex.lock();\n",
        "  cout << \" I want \" << order << \" products...\" << endl;\n",
        "\n",
        "  if (productCount - order < 0)\n",
        "  {\n",
        "    cout << \"   - I'll wait for \" << order << \" more.\" << endl;\n",
        "    gondolaAccesMutex.unlock();\n",
        "    sem_post(reponerS);\n",
        "    sem_wait(waitRestock);\n",
        "    gondolaAccesMutex.lock();\n",
        "  }\n",
        "  productCount -= order;\n",
        "  cout << \" Thanks :D \" << endl;\n",
        "  gondolaAccesMutex.unlock();\n",
        "  waitingArea.unlock();\n",
        "}"
      ],
      "metadata": {
        "id": "4lH1jQl_IoCO"
      },
      "execution_count": null,
      "outputs": []
    },
    {
      "cell_type": "markdown",
      "source": [
        "Compilamos nuestro main.cpp"
      ],
      "metadata": {
        "id": "sZp0Dlp4JXxQ"
      }
    },
    {
      "cell_type": "code",
      "source": [
        "!g++ -o SuperMarket main.cpp"
      ],
      "metadata": {
        "id": "nQajp1_0I1zB"
      },
      "execution_count": null,
      "outputs": []
    },
    {
      "cell_type": "markdown",
      "source": [
        "Ejecutamos el ejercicio pasando como parametro la cantidad de clientes que compraran"
      ],
      "metadata": {
        "id": "n4JwXyqKJZo2"
      }
    },
    {
      "cell_type": "code",
      "source": [
        "!./SuperMarket 30"
      ],
      "metadata": {
        "id": "BEJP-iIgI4RS"
      },
      "execution_count": null,
      "outputs": []
    }
  ]
}